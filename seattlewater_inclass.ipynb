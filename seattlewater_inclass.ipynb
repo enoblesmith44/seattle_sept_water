{
 "cells": [
  {
   "cell_type": "code",
   "execution_count": null,
   "id": "01f120d6-e3f6-45d3-993b-acb75ff93235",
   "metadata": {},
   "outputs": [],
   "source": []
  },
  {
   "cell_type": "code",
   "execution_count": null,
   "id": "9a6e4782-1b4c-4ec5-9e57-9bbdf6f2350a",
   "metadata": {},
   "outputs": [],
   "source": [
    "## :0"
   ]
  },
  {
   "cell_type": "code",
   "execution_count": 46,
   "id": "cc5d5a6f-07a9-4c3b-aa9b-8941c23c5e2b",
   "metadata": {
    "tags": []
   },
   "outputs": [],
   "source": [
    "import matplotlib.pyplot as plt\n",
    "\n",
    "import numpy as np\n",
    "\n",
    "from datetime import datetime\n",
    "\n"
   ]
  },
  {
   "cell_type": "code",
   "execution_count": null,
   "id": "2297542a-3d70-4ca2-8bf8-2d985245fd39",
   "metadata": {
    "tags": []
   },
   "outputs": [],
   "source": []
  },
  {
   "cell_type": "code",
   "execution_count": 26,
   "id": "2287b116-b679-48ae-8fd0-3c7078fdeadf",
   "metadata": {
    "tags": []
   },
   "outputs": [],
   "source": [
    "filepath='../data/seattle_waterlevels.csv'\n"
   ]
  },
  {
   "cell_type": "code",
   "execution_count": 44,
   "id": "37f15316-161d-408c-96f5-8581e40d84a1",
   "metadata": {
    "tags": []
   },
   "outputs": [],
   "source": [
    "file_obj=open(filepath, 'r')\n",
    "\n",
    "for i in range(10):\n",
    "    x=1\n",
    "   ## print(file_obj.readline())"
   ]
  },
  {
   "cell_type": "code",
   "execution_count": 35,
   "id": "4e806178-5a2a-4cf4-92ef-206fae82bbb9",
   "metadata": {
    "tags": []
   },
   "outputs": [
    {
     "name": "stdout",
     "output_type": "stream",
     "text": [
      "[['\"2024/09/01\"' '\"00:00\"' '\"3.378\"' '\"3.453\"']\n",
      " ['\"2024/09/01\"' '\"00:06\"' '\"3.392\"' '\"3.455\"']\n",
      " ['\"2024/09/01\"' '\"00:12\"' '\"3.403\"' '\"3.462\"']\n",
      " ...\n",
      " ['\"2024/09/30\"' '\"23:42\"' '\"3.302\"' '\"3.266\"']\n",
      " ['\"2024/09/30\"' '\"23:48\"' '\"3.309\"' '\"3.266\"']\n",
      " ['\"2024/09/30\"' '\"23:54\"' '\"3.314\"' '\"3.268\"']]\n"
     ]
    }
   ],
   "source": [
    "data=np.genfromtxt(filepath,\n",
    "                    skip_header=1,\n",
    "                    usecols=(0,1,2,4),\n",
    "                    dtype=str,\n",
    "                    delimiter=',')\n",
    "\n",
    "print(data)"
   ]
  },
  {
   "cell_type": "code",
   "execution_count": 37,
   "id": "fb1f5d9c-af0c-4f08-b236-32e64dd639f1",
   "metadata": {
    "tags": []
   },
   "outputs": [
    {
     "name": "stdout",
     "output_type": "stream",
     "text": [
      "['\"2024/09/01\"' '\"00:00\"' '\"3.378\"' '\"3.453\"']\n"
     ]
    }
   ],
   "source": [
    "print(data[0])"
   ]
  },
  {
   "cell_type": "code",
   "execution_count": 38,
   "id": "5af6a01a-34f4-4637-b562-74604fd84199",
   "metadata": {
    "tags": []
   },
   "outputs": [
    {
     "name": "stdout",
     "output_type": "stream",
     "text": [
      "(7200, 4)\n"
     ]
    }
   ],
   "source": [
    "shape=np.shape(data)\n",
    "\n",
    "print(shape)"
   ]
  },
  {
   "cell_type": "code",
   "execution_count": 39,
   "id": "8c4b0447-0024-43dc-89df-ea02ed9723ad",
   "metadata": {
    "tags": []
   },
   "outputs": [
    {
     "name": "stdout",
     "output_type": "stream",
     "text": [
      "7200 4\n"
     ]
    }
   ],
   "source": [
    "nrows= np.shape(data)[0]\n",
    "ncols= np.shape(data)[1]\n",
    "print(nrows,ncols)\n"
   ]
  },
  {
   "cell_type": "code",
   "execution_count": null,
   "id": "db72c077-7ca6-4cb3-9885-2a190be3cfda",
   "metadata": {
    "tags": []
   },
   "outputs": [],
   "source": []
  },
  {
   "cell_type": "code",
   "execution_count": 62,
   "id": "46e1bd1a-d4a2-4bb8-a8cd-00d3a47f3937",
   "metadata": {
    "tags": []
   },
   "outputs": [
    {
     "data": {
      "text/plain": [
       "<bound method Axes.legend of <Axes: title={'center': 'uhhh'}, xlabel='Time', ylabel='Water level (m)'>>"
      ]
     },
     "execution_count": 62,
     "metadata": {},
     "output_type": "execute_result"
    },
    {
     "data": {
      "image/png": "[encoded data removed]",
      "text/plain": [
       "<Figure size 1000x600 with 1 Axes>"
      ]
     },
     "metadata": {},
     "output_type": "display_data"
    }
   ],
   "source": [
    "fig, ax = plt.subplots(figsize=(10,6))\n",
    "\n",
    "ax.grid(alpha=.5)\n",
    "\n",
    "ax.set_xlabel(\"Time\", fontsize=15)\n",
    "\n",
    "ax.set_ylabel(\"Water level (m)\")\n",
    "\n",
    "ax.set_title(\"uhhh\")\n",
    "\n",
    "ax.legend"
   ]
  },
  {
   "cell_type": "code",
   "execution_count": null,
   "id": "cc7417e9-fec0-4ebb-986c-3b33305c1c67",
   "metadata": {},
   "outputs": [],
   "source": []
  }
 ],
 "metadata": {
  "kernelspec": {
   "display_name": "Python 3 (ipykernel)",
   "language": "python",
   "name": "python3"
  },
  "language_info": {
   "codemirror_mode": {
    "name": "ipython",
    "version": 3
   },
   "file_extension": ".py",
   "mimetype": "text/x-python",
   "name": "python",
   "nbconvert_exporter": "python",
   "pygments_lexer": "ipython3",
   "version": "3.10.10"
  }
 },
 "nbformat": 4,
 "nbformat_minor": 5
}
